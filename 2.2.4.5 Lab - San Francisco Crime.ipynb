{
 "cells": [
  {
   "cell_type": "markdown",
   "metadata": {},
   "source": [
    "![Título](Images/cisco.png)"
   ]
  },
  {
   "cell_type": "markdown",
   "metadata": {},
   "source": [
    "# Práctica de laboratorio: Delitos en San Francisco\n",
    "\n",
    "### Objetivos\n",
    "\n",
    "Demuestre sus conocimientos acerca del ciclo activo del análisis de datos mediante un conjunto de datos determinado, herramientas, Python y la libreta de anotaciones de Jupyter.\n",
    "\n",
    "#### Parte 1: Importar los paquetes de Python\n",
    "#### Parte 2: Cargar los datos\n",
    "#### Parte 3: Preparar los datos\n",
    "#### Parte 4: Analizar los datos\n",
    "#### Parte 5: Visualizar los datos\n",
    "\n",
    "### Segundo plano/situación\n",
    "\n",
    "En esta práctica de laboratorio, importará algunos paquetes de Python que nos necesarios para analizar un conjunto de datos que contiene información sobre delitos en San Francisco. Luego utilizará Python y Jupyter Notebook para preparar estos datos para su análisis, analizarlos, graficarlos y comunicar sus conclusiones.\n",
    "\n",
    "### Recursos necesarios\n",
    "\n",
    "* 1 computadora con acceso a Internet\n",
    "* Raspberry Pi versión 2 o superior\n",
    "* Bibliotecas de Python: pandas, numpy, matplotlib, folium, datetime y csv\n",
    "* Archivos de datos: Map-Crime_Incidents-Previous_Three_Months.csv"
   ]
  },
  {
   "cell_type": "markdown",
   "metadata": {},
   "source": [
    "## Parte 1: Importar los paquetes de Python\n",
    "\n",
    "En esta sección, importará los paquetes de Python que son necesarios para el resto de esta práctica de laboratorio.\n",
    "#### numpy \n",
    "NumPy es el paquete fundamental para computación científica con Python. Contiene entre otras cosas: un potente objeto de matriz N dimensional y funciones sofisticadas (difusión).\n",
    "#### pandas \n",
    "Pandas es un código abierto, una biblioteca con licencia BSD autorizada que proporciona un alto rendimiento, estructuras de datos fáciles de usar y herramientas de análisis de datos para el lenguaje de programación de Python.\n",
    "#### matplotlib\n",
    "Matplotlib es una biblioteca gráfica para el lenguaje de programación de Python y su extensión matemática numérica NumPy.\n",
    "#### folium \n",
    "Folium es una biblioteca para crear mapas interactivos."
   ]
  },
  {
   "cell_type": "code",
   "execution_count": 3,
   "metadata": {},
   "outputs": [
    {
     "name": "stdout",
     "output_type": "stream",
     "text": [
      "Collecting folium\n",
      "  Downloading https://files.pythonhosted.org/packages/fd/a0/ccb3094026649cda4acd55bf2c3822bb8c277eb11446d13d384e5be35257/folium-0.10.1-py2.py3-none-any.whl (91kB)\n",
      "Requirement already satisfied: numpy in c:\\programdata\\anaconda4\\lib\\site-packages (from folium) (1.16.5)\n",
      "Collecting branca>=0.3.0 (from folium)\n",
      "  Downloading https://files.pythonhosted.org/packages/81/6d/31c83485189a2521a75b4130f1fee5364f772a0375f81afff619004e5237/branca-0.4.0-py3-none-any.whl\n",
      "Requirement already satisfied: requests in c:\\programdata\\anaconda4\\lib\\site-packages (from folium) (2.22.0)\n",
      "Requirement already satisfied: jinja2>=2.9 in c:\\programdata\\anaconda4\\lib\\site-packages (from folium) (2.10.3)\n",
      "Requirement already satisfied: six in c:\\programdata\\anaconda4\\lib\\site-packages (from branca>=0.3.0->folium) (1.12.0)\n",
      "Requirement already satisfied: urllib3!=1.25.0,!=1.25.1,<1.26,>=1.21.1 in c:\\programdata\\anaconda4\\lib\\site-packages (from requests->folium) (1.24.2)\n",
      "Requirement already satisfied: certifi>=2017.4.17 in c:\\programdata\\anaconda4\\lib\\site-packages (from requests->folium) (2019.9.11)\n",
      "Requirement already satisfied: chardet<3.1.0,>=3.0.2 in c:\\programdata\\anaconda4\\lib\\site-packages (from requests->folium) (3.0.4)\n",
      "Requirement already satisfied: idna<2.9,>=2.5 in c:\\programdata\\anaconda4\\lib\\site-packages (from requests->folium) (2.8)\n",
      "Requirement already satisfied: MarkupSafe>=0.23 in c:\\programdata\\anaconda4\\lib\\site-packages (from jinja2>=2.9->folium) (1.1.1)\n",
      "Installing collected packages: branca, folium\n",
      "Successfully installed branca-0.4.0 folium-0.10.1\n",
      "Note: you may need to restart the kernel to use updated packages.\n"
     ]
    }
   ],
   "source": [
    "pip install folium\n"
   ]
  },
  {
   "cell_type": "code",
   "execution_count": 4,
   "metadata": {},
   "outputs": [],
   "source": [
    "# Code cell 1\n",
    "%matplotlib inline\n",
    "import numpy as np\n",
    "import pandas as pd\n",
    "import matplotlib.pyplot as plt\n",
    "import folium "
   ]
  },
  {
   "cell_type": "markdown",
   "metadata": {},
   "source": [
    "## Parte 2: Cargar los datos\n",
    "\n",
    "En esta sección, cargará el conjunto de datos de delitos en San Francisco y los paquetes de Python necesarios para analizarlo y visualizarlo."
   ]
  },
  {
   "cell_type": "markdown",
   "metadata": {},
   "source": [
    "#### Paso 1: Cargar los datos de delitos en San Francisco en un marco de datos.\n",
    "En este paso, se importarán los datos de delitos en San Francisco de un archivo de valores separado por comas (csv) en una trama de datos."
   ]
  },
  {
   "cell_type": "code",
   "execution_count": 5,
   "metadata": {},
   "outputs": [],
   "source": [
    "# code cell 2\n",
    "# This should be a local path\n",
    "dataset_path = './Data/Map-Crime_Incidents-Previous_Three_Months.csv'\n",
    "\n",
    "# read the original dataset (in comma separated values format) into a DataFrame\n",
    "SF = pd.read_csv(dataset_path)"
   ]
  },
  {
   "cell_type": "markdown",
   "metadata": {},
   "source": [
    "Para ver las primeras cinco líneas del archivo csv, se utilizará el comando 'head' de Linux."
   ]
  },
  {
   "cell_type": "code",
   "execution_count": 10,
   "metadata": {
    "scrolled": true
   },
   "outputs": [
    {
     "data": {
      "text/html": [
       "<div>\n",
       "<style scoped>\n",
       "    .dataframe tbody tr th:only-of-type {\n",
       "        vertical-align: middle;\n",
       "    }\n",
       "\n",
       "    .dataframe tbody tr th {\n",
       "        vertical-align: top;\n",
       "    }\n",
       "\n",
       "    .dataframe thead th {\n",
       "        text-align: right;\n",
       "    }\n",
       "</style>\n",
       "<table border=\"1\" class=\"dataframe\">\n",
       "  <thead>\n",
       "    <tr style=\"text-align: right;\">\n",
       "      <th></th>\n",
       "      <th>IncidntNum</th>\n",
       "      <th>Category</th>\n",
       "      <th>Descript</th>\n",
       "      <th>DayOfWeek</th>\n",
       "      <th>Date</th>\n",
       "      <th>Time</th>\n",
       "      <th>PdDistrict</th>\n",
       "      <th>Resolution</th>\n",
       "      <th>Address</th>\n",
       "      <th>X</th>\n",
       "      <th>Y</th>\n",
       "      <th>Location</th>\n",
       "    </tr>\n",
       "  </thead>\n",
       "  <tbody>\n",
       "    <tr>\n",
       "      <td>0</td>\n",
       "      <td>NaN</td>\n",
       "      <td>LARCENY/THEFT</td>\n",
       "      <td>GRAND THEFT FROM UNLOCKED AUTO</td>\n",
       "      <td>Sunday</td>\n",
       "      <td>08/31/2014 07:00:00 AM +0000</td>\n",
       "      <td>20:30</td>\n",
       "      <td>CENTRAL</td>\n",
       "      <td>NONE</td>\n",
       "      <td>HYDE ST / CALIFORNIA ST</td>\n",
       "      <td>-122.417393</td>\n",
       "      <td>37.790974</td>\n",
       "      <td>(37.7909741243888, -122.417392830334)</td>\n",
       "    </tr>\n",
       "    <tr>\n",
       "      <td>1</td>\n",
       "      <td>NaN</td>\n",
       "      <td>LARCENY/THEFT</td>\n",
       "      <td>GRAND THEFT FROM LOCKED AUTO</td>\n",
       "      <td>Sunday</td>\n",
       "      <td>08/31/2014 07:00:00 AM +0000</td>\n",
       "      <td>14:30</td>\n",
       "      <td>CENTRAL</td>\n",
       "      <td>NONE</td>\n",
       "      <td>COLUMBUS AV / JACKSON ST</td>\n",
       "      <td>-122.404418</td>\n",
       "      <td>37.796302</td>\n",
       "      <td>(37.7963018736036, -122.404417620748)</td>\n",
       "    </tr>\n",
       "    <tr>\n",
       "      <td>2</td>\n",
       "      <td>NaN</td>\n",
       "      <td>LARCENY/THEFT</td>\n",
       "      <td>GRAND THEFT FROM LOCKED AUTO</td>\n",
       "      <td>Sunday</td>\n",
       "      <td>08/31/2014 07:00:00 AM +0000</td>\n",
       "      <td>11:30</td>\n",
       "      <td>CENTRAL</td>\n",
       "      <td>NONE</td>\n",
       "      <td>SUTTER ST / STOCKTON ST</td>\n",
       "      <td>-122.406959</td>\n",
       "      <td>37.789435</td>\n",
       "      <td>(37.7894347630337, -122.406958660602)</td>\n",
       "    </tr>\n",
       "    <tr>\n",
       "      <td>3</td>\n",
       "      <td>NaN</td>\n",
       "      <td>DRUG/NARCOTIC</td>\n",
       "      <td>POSSESSION OF METH-AMPHETAMINE</td>\n",
       "      <td>Sunday</td>\n",
       "      <td>08/31/2014 07:00:00 AM +0000</td>\n",
       "      <td>17:49</td>\n",
       "      <td>MISSION</td>\n",
       "      <td>ARREST, BOOKED</td>\n",
       "      <td>16TH ST / MISSION ST</td>\n",
       "      <td>-122.419672</td>\n",
       "      <td>37.765050</td>\n",
       "      <td>(37.7650501214965, -122.419671780296)</td>\n",
       "    </tr>\n",
       "    <tr>\n",
       "      <td>4</td>\n",
       "      <td>NaN</td>\n",
       "      <td>DRUG/NARCOTIC</td>\n",
       "      <td>POSSESSION OF COCAINE</td>\n",
       "      <td>Sunday</td>\n",
       "      <td>08/31/2014 07:00:00 AM +0000</td>\n",
       "      <td>18:05</td>\n",
       "      <td>NORTHERN</td>\n",
       "      <td>ARREST, BOOKED</td>\n",
       "      <td>LARKIN ST / OFARRELL ST</td>\n",
       "      <td>-122.417904</td>\n",
       "      <td>37.785167</td>\n",
       "      <td>(37.7851670875814, -122.417903977564)</td>\n",
       "    </tr>\n",
       "  </tbody>\n",
       "</table>\n",
       "</div>"
      ],
      "text/plain": [
       "   IncidntNum       Category                        Descript DayOfWeek  \\\n",
       "0         NaN  LARCENY/THEFT  GRAND THEFT FROM UNLOCKED AUTO    Sunday   \n",
       "1         NaN  LARCENY/THEFT    GRAND THEFT FROM LOCKED AUTO    Sunday   \n",
       "2         NaN  LARCENY/THEFT    GRAND THEFT FROM LOCKED AUTO    Sunday   \n",
       "3         NaN  DRUG/NARCOTIC  POSSESSION OF METH-AMPHETAMINE    Sunday   \n",
       "4         NaN  DRUG/NARCOTIC           POSSESSION OF COCAINE    Sunday   \n",
       "\n",
       "                           Date   Time PdDistrict      Resolution  \\\n",
       "0  08/31/2014 07:00:00 AM +0000  20:30    CENTRAL            NONE   \n",
       "1  08/31/2014 07:00:00 AM +0000  14:30    CENTRAL            NONE   \n",
       "2  08/31/2014 07:00:00 AM +0000  11:30    CENTRAL            NONE   \n",
       "3  08/31/2014 07:00:00 AM +0000  17:49    MISSION  ARREST, BOOKED   \n",
       "4  08/31/2014 07:00:00 AM +0000  18:05   NORTHERN  ARREST, BOOKED   \n",
       "\n",
       "                    Address           X          Y  \\\n",
       "0   HYDE ST / CALIFORNIA ST -122.417393  37.790974   \n",
       "1  COLUMBUS AV / JACKSON ST -122.404418  37.796302   \n",
       "2   SUTTER ST / STOCKTON ST -122.406959  37.789435   \n",
       "3      16TH ST / MISSION ST -122.419672  37.765050   \n",
       "4   LARKIN ST / OFARRELL ST -122.417904  37.785167   \n",
       "\n",
       "                                Location  \n",
       "0  (37.7909741243888, -122.417392830334)  \n",
       "1  (37.7963018736036, -122.404417620748)  \n",
       "2  (37.7894347630337, -122.406958660602)  \n",
       "3  (37.7650501214965, -122.419671780296)  \n",
       "4  (37.7851670875814, -122.417903977564)  "
      ]
     },
     "execution_count": 10,
     "metadata": {},
     "output_type": "execute_result"
    }
   ],
   "source": [
    "# code cell 3\n",
    "SF.head(5) "
   ]
  },
  {
   "cell_type": "markdown",
   "metadata": {},
   "source": [
    "#### Paso 2: Ver los datos importados.\n",
    "\n",
    "A) Al ingresar el nombre del marco de datos en una celda, puede visualizar las filas superior e inferior de manera estructurada."
   ]
  },
  {
   "cell_type": "code",
   "execution_count": 11,
   "metadata": {},
   "outputs": [
    {
     "data": {
      "text/html": [
       "<div>\n",
       "<style scoped>\n",
       "    .dataframe tbody tr th:only-of-type {\n",
       "        vertical-align: middle;\n",
       "    }\n",
       "\n",
       "    .dataframe tbody tr th {\n",
       "        vertical-align: top;\n",
       "    }\n",
       "\n",
       "    .dataframe thead th {\n",
       "        text-align: right;\n",
       "    }\n",
       "</style>\n",
       "<table border=\"1\" class=\"dataframe\">\n",
       "  <thead>\n",
       "    <tr style=\"text-align: right;\">\n",
       "      <th></th>\n",
       "      <th>IncidntNum</th>\n",
       "      <th>Category</th>\n",
       "      <th>Descript</th>\n",
       "      <th>DayOfWeek</th>\n",
       "      <th>Date</th>\n",
       "      <th>Time</th>\n",
       "      <th>PdDistrict</th>\n",
       "      <th>Resolution</th>\n",
       "      <th>Address</th>\n",
       "      <th>X</th>\n",
       "      <th>Y</th>\n",
       "      <th>Location</th>\n",
       "    </tr>\n",
       "  </thead>\n",
       "  <tbody>\n",
       "    <tr>\n",
       "      <td>0</td>\n",
       "      <td>NaN</td>\n",
       "      <td>LARCENY/THEFT</td>\n",
       "      <td>GRAND THEFT FROM UNLOCKED AUTO</td>\n",
       "      <td>Sunday</td>\n",
       "      <td>08/31/2014 07:00:00 AM +0000</td>\n",
       "      <td>20:30</td>\n",
       "      <td>CENTRAL</td>\n",
       "      <td>NONE</td>\n",
       "      <td>HYDE ST / CALIFORNIA ST</td>\n",
       "      <td>-122.417393</td>\n",
       "      <td>37.790974</td>\n",
       "      <td>(37.7909741243888, -122.417392830334)</td>\n",
       "    </tr>\n",
       "    <tr>\n",
       "      <td>1</td>\n",
       "      <td>NaN</td>\n",
       "      <td>LARCENY/THEFT</td>\n",
       "      <td>GRAND THEFT FROM LOCKED AUTO</td>\n",
       "      <td>Sunday</td>\n",
       "      <td>08/31/2014 07:00:00 AM +0000</td>\n",
       "      <td>14:30</td>\n",
       "      <td>CENTRAL</td>\n",
       "      <td>NONE</td>\n",
       "      <td>COLUMBUS AV / JACKSON ST</td>\n",
       "      <td>-122.404418</td>\n",
       "      <td>37.796302</td>\n",
       "      <td>(37.7963018736036, -122.404417620748)</td>\n",
       "    </tr>\n",
       "    <tr>\n",
       "      <td>2</td>\n",
       "      <td>NaN</td>\n",
       "      <td>LARCENY/THEFT</td>\n",
       "      <td>GRAND THEFT FROM LOCKED AUTO</td>\n",
       "      <td>Sunday</td>\n",
       "      <td>08/31/2014 07:00:00 AM +0000</td>\n",
       "      <td>11:30</td>\n",
       "      <td>CENTRAL</td>\n",
       "      <td>NONE</td>\n",
       "      <td>SUTTER ST / STOCKTON ST</td>\n",
       "      <td>-122.406959</td>\n",
       "      <td>37.789435</td>\n",
       "      <td>(37.7894347630337, -122.406958660602)</td>\n",
       "    </tr>\n",
       "    <tr>\n",
       "      <td>3</td>\n",
       "      <td>NaN</td>\n",
       "      <td>DRUG/NARCOTIC</td>\n",
       "      <td>POSSESSION OF METH-AMPHETAMINE</td>\n",
       "      <td>Sunday</td>\n",
       "      <td>08/31/2014 07:00:00 AM +0000</td>\n",
       "      <td>17:49</td>\n",
       "      <td>MISSION</td>\n",
       "      <td>ARREST, BOOKED</td>\n",
       "      <td>16TH ST / MISSION ST</td>\n",
       "      <td>-122.419672</td>\n",
       "      <td>37.765050</td>\n",
       "      <td>(37.7650501214965, -122.419671780296)</td>\n",
       "    </tr>\n",
       "    <tr>\n",
       "      <td>4</td>\n",
       "      <td>NaN</td>\n",
       "      <td>DRUG/NARCOTIC</td>\n",
       "      <td>POSSESSION OF COCAINE</td>\n",
       "      <td>Sunday</td>\n",
       "      <td>08/31/2014 07:00:00 AM +0000</td>\n",
       "      <td>18:05</td>\n",
       "      <td>NORTHERN</td>\n",
       "      <td>ARREST, BOOKED</td>\n",
       "      <td>LARKIN ST / OFARRELL ST</td>\n",
       "      <td>-122.417904</td>\n",
       "      <td>37.785167</td>\n",
       "      <td>(37.7851670875814, -122.417903977564)</td>\n",
       "    </tr>\n",
       "    <tr>\n",
       "      <td>...</td>\n",
       "      <td>...</td>\n",
       "      <td>...</td>\n",
       "      <td>...</td>\n",
       "      <td>...</td>\n",
       "      <td>...</td>\n",
       "      <td>...</td>\n",
       "      <td>...</td>\n",
       "      <td>...</td>\n",
       "      <td>...</td>\n",
       "      <td>...</td>\n",
       "      <td>...</td>\n",
       "      <td>...</td>\n",
       "    </tr>\n",
       "    <tr>\n",
       "      <td>30755</td>\n",
       "      <td>NaN</td>\n",
       "      <td>LARCENY/THEFT</td>\n",
       "      <td>PETTY THEFT SHOPLIFTING</td>\n",
       "      <td>Sunday</td>\n",
       "      <td>06/01/2014 07:00:00 AM +0000</td>\n",
       "      <td>15:30</td>\n",
       "      <td>SOUTHERN</td>\n",
       "      <td>ARREST, BOOKED</td>\n",
       "      <td>900.0 Block of MARKET ST</td>\n",
       "      <td>-122.408052</td>\n",
       "      <td>37.783957</td>\n",
       "      <td>(37.7839574642528, -122.408051765969)</td>\n",
       "    </tr>\n",
       "    <tr>\n",
       "      <td>30756</td>\n",
       "      <td>NaN</td>\n",
       "      <td>OTHER OFFENSES</td>\n",
       "      <td>DRIVERS LICENSE, SUSPENDED OR REVOKED</td>\n",
       "      <td>Sunday</td>\n",
       "      <td>06/01/2014 07:00:00 AM +0000</td>\n",
       "      <td>16:00</td>\n",
       "      <td>NORTHERN</td>\n",
       "      <td>ARREST, CITED</td>\n",
       "      <td>POLK ST / MCALLISTER ST</td>\n",
       "      <td>-122.418601</td>\n",
       "      <td>37.780261</td>\n",
       "      <td>(37.7802607511488, -122.418600974625)</td>\n",
       "    </tr>\n",
       "    <tr>\n",
       "      <td>30757</td>\n",
       "      <td>NaN</td>\n",
       "      <td>ASSAULT</td>\n",
       "      <td>BATTERY</td>\n",
       "      <td>Sunday</td>\n",
       "      <td>06/01/2014 07:00:00 AM +0000</td>\n",
       "      <td>15:00</td>\n",
       "      <td>TENDERLOIN</td>\n",
       "      <td>ARREST, CITED</td>\n",
       "      <td>0.0 Block of JONES ST</td>\n",
       "      <td>-122.412122</td>\n",
       "      <td>37.781379</td>\n",
       "      <td>(37.7813786419025, -122.412121608136)</td>\n",
       "    </tr>\n",
       "    <tr>\n",
       "      <td>30758</td>\n",
       "      <td>NaN</td>\n",
       "      <td>ASSAULT</td>\n",
       "      <td>ASSAULT WITH CAUSTIC CHEMICALS</td>\n",
       "      <td>Sunday</td>\n",
       "      <td>06/01/2014 07:00:00 AM +0000</td>\n",
       "      <td>15:20</td>\n",
       "      <td>CENTRAL</td>\n",
       "      <td>NONE</td>\n",
       "      <td>200.0 Block of GEARY ST</td>\n",
       "      <td>-122.407434</td>\n",
       "      <td>37.787494</td>\n",
       "      <td>(37.7874944447786, -122.407434204569)</td>\n",
       "    </tr>\n",
       "    <tr>\n",
       "      <td>30759</td>\n",
       "      <td>NaN</td>\n",
       "      <td>OTHER OFFENSES</td>\n",
       "      <td>DRIVERS LICENSE, SUSPENDED OR REVOKED</td>\n",
       "      <td>Sunday</td>\n",
       "      <td>06/01/2014 07:00:00 AM +0000</td>\n",
       "      <td>13:15</td>\n",
       "      <td>INGLESIDE</td>\n",
       "      <td>ARREST, CITED</td>\n",
       "      <td>MISSION ST / BOSWORTH ST</td>\n",
       "      <td>-122.426391</td>\n",
       "      <td>37.733675</td>\n",
       "      <td>(37.7336749150401, -122.426391018521)</td>\n",
       "    </tr>\n",
       "  </tbody>\n",
       "</table>\n",
       "<p>30760 rows × 12 columns</p>\n",
       "</div>"
      ],
      "text/plain": [
       "       IncidntNum        Category                               Descript  \\\n",
       "0             NaN   LARCENY/THEFT         GRAND THEFT FROM UNLOCKED AUTO   \n",
       "1             NaN   LARCENY/THEFT           GRAND THEFT FROM LOCKED AUTO   \n",
       "2             NaN   LARCENY/THEFT           GRAND THEFT FROM LOCKED AUTO   \n",
       "3             NaN   DRUG/NARCOTIC         POSSESSION OF METH-AMPHETAMINE   \n",
       "4             NaN   DRUG/NARCOTIC                  POSSESSION OF COCAINE   \n",
       "...           ...             ...                                    ...   \n",
       "30755         NaN   LARCENY/THEFT                PETTY THEFT SHOPLIFTING   \n",
       "30756         NaN  OTHER OFFENSES  DRIVERS LICENSE, SUSPENDED OR REVOKED   \n",
       "30757         NaN         ASSAULT                                BATTERY   \n",
       "30758         NaN         ASSAULT         ASSAULT WITH CAUSTIC CHEMICALS   \n",
       "30759         NaN  OTHER OFFENSES  DRIVERS LICENSE, SUSPENDED OR REVOKED   \n",
       "\n",
       "      DayOfWeek                          Date   Time  PdDistrict  \\\n",
       "0        Sunday  08/31/2014 07:00:00 AM +0000  20:30     CENTRAL   \n",
       "1        Sunday  08/31/2014 07:00:00 AM +0000  14:30     CENTRAL   \n",
       "2        Sunday  08/31/2014 07:00:00 AM +0000  11:30     CENTRAL   \n",
       "3        Sunday  08/31/2014 07:00:00 AM +0000  17:49     MISSION   \n",
       "4        Sunday  08/31/2014 07:00:00 AM +0000  18:05    NORTHERN   \n",
       "...         ...                           ...    ...         ...   \n",
       "30755    Sunday  06/01/2014 07:00:00 AM +0000  15:30    SOUTHERN   \n",
       "30756    Sunday  06/01/2014 07:00:00 AM +0000  16:00    NORTHERN   \n",
       "30757    Sunday  06/01/2014 07:00:00 AM +0000  15:00  TENDERLOIN   \n",
       "30758    Sunday  06/01/2014 07:00:00 AM +0000  15:20     CENTRAL   \n",
       "30759    Sunday  06/01/2014 07:00:00 AM +0000  13:15   INGLESIDE   \n",
       "\n",
       "           Resolution                   Address           X          Y  \\\n",
       "0                NONE   HYDE ST / CALIFORNIA ST -122.417393  37.790974   \n",
       "1                NONE  COLUMBUS AV / JACKSON ST -122.404418  37.796302   \n",
       "2                NONE   SUTTER ST / STOCKTON ST -122.406959  37.789435   \n",
       "3      ARREST, BOOKED      16TH ST / MISSION ST -122.419672  37.765050   \n",
       "4      ARREST, BOOKED   LARKIN ST / OFARRELL ST -122.417904  37.785167   \n",
       "...               ...                       ...         ...        ...   \n",
       "30755  ARREST, BOOKED  900.0 Block of MARKET ST -122.408052  37.783957   \n",
       "30756   ARREST, CITED   POLK ST / MCALLISTER ST -122.418601  37.780261   \n",
       "30757   ARREST, CITED     0.0 Block of JONES ST -122.412122  37.781379   \n",
       "30758            NONE   200.0 Block of GEARY ST -122.407434  37.787494   \n",
       "30759   ARREST, CITED  MISSION ST / BOSWORTH ST -122.426391  37.733675   \n",
       "\n",
       "                                    Location  \n",
       "0      (37.7909741243888, -122.417392830334)  \n",
       "1      (37.7963018736036, -122.404417620748)  \n",
       "2      (37.7894347630337, -122.406958660602)  \n",
       "3      (37.7650501214965, -122.419671780296)  \n",
       "4      (37.7851670875814, -122.417903977564)  \n",
       "...                                      ...  \n",
       "30755  (37.7839574642528, -122.408051765969)  \n",
       "30756  (37.7802607511488, -122.418600974625)  \n",
       "30757  (37.7813786419025, -122.412121608136)  \n",
       "30758  (37.7874944447786, -122.407434204569)  \n",
       "30759  (37.7336749150401, -122.426391018521)  \n",
       "\n",
       "[30760 rows x 12 columns]"
      ]
     },
     "execution_count": 11,
     "metadata": {},
     "output_type": "execute_result"
    }
   ],
   "source": [
    "# Code cell 4\n",
    "pd.set_option('display.max_rows', 10) #Visualize 10 rows \n",
    "SF"
   ]
  },
  {
   "cell_type": "markdown",
   "metadata": {},
   "source": [
    "b) Utilice la función 'columns' para ver el nombre de las variables en el marco de datos."
   ]
  },
  {
   "cell_type": "code",
   "execution_count": 12,
   "metadata": {},
   "outputs": [
    {
     "data": {
      "text/plain": [
       "Index(['IncidntNum', 'Category', 'Descript', 'DayOfWeek', 'Date', 'Time',\n",
       "       'PdDistrict', 'Resolution', 'Address', 'X', 'Y', 'Location'],\n",
       "      dtype='object')"
      ]
     },
     "execution_count": 12,
     "metadata": {},
     "output_type": "execute_result"
    }
   ],
   "source": [
    "# Code cell 5\n",
    "SF.columns"
   ]
  },
  {
   "cell_type": "markdown",
   "metadata": {},
   "source": [
    "¿Cuántas variables se incluyen en el marco de datos de SF (ignore el índice)?"
   ]
  },
  {
   "cell_type": "markdown",
   "metadata": {},
   "source": [
    "12"
   ]
  },
  {
   "cell_type": "markdown",
   "metadata": {},
   "source": [
    "c) Utilice la función 'len' para determinar la cantidad de filas en el conjunto de datos."
   ]
  },
  {
   "cell_type": "code",
   "execution_count": 13,
   "metadata": {},
   "outputs": [
    {
     "data": {
      "text/plain": [
       "30760"
      ]
     },
     "execution_count": 13,
     "metadata": {},
     "output_type": "execute_result"
    }
   ],
   "source": [
    "# Code cell 6\n",
    "len(SF)"
   ]
  },
  {
   "cell_type": "markdown",
   "metadata": {},
   "source": [
    "## Parte 3: Preparar los datos\n",
    "\n",
    "Ahora que cuenta con los datos cargados en el entorno de trabajo y determinó el análisis que desea realizar, es momento de preparar los datos para el análisis.\n"
   ]
  },
  {
   "cell_type": "markdown",
   "metadata": {},
   "source": [
    "#### Paso 1: Extraer el mes y el día del campo de Date (Fecha)."
   ]
  },
  {
   "cell_type": "markdown",
   "metadata": {},
   "source": [
    "'lambda' es una palabra clave de Python que define las reconocidas *funciones anónimas*. 'lambda' le permite especificar una función en una línea de código sin utilizar 'def' y sin definir un nombre específico para ella. La sintaxis para una expresión 'lambda' es:\n",
    "\n",
    "'lambda' *parámetros*: *expresión*.\n",
    "\n",
    "En este caso, la función 'lambda' se utiliza para crear una función en línea que seleccione solo los dígitos del mes de la variable Date (Fecha) e 'int' para convertir una representación de secuencia en un valor entero. Luego, la función *pandas* 'apply' se utiliza para aplicar esta función a una columna entera (en la práctica, 'apply' define implícitamente un bucle 'for' y pasa una por una las filas a la función 'lambda').  El mismo procedimiento se puede hacer para el día. "
   ]
  },
  {
   "cell_type": "code",
   "execution_count": 18,
   "metadata": {},
   "outputs": [],
   "source": [
    "# Code cell 7\n",
    "SF['Month'] = SF['Date'].apply(lambda row: int(row[0:2]))\n",
    "SF['Day'] = SF['Date'].apply(lambda row: int(row[3:5]))"
   ]
  },
  {
   "cell_type": "markdown",
   "metadata": {},
   "source": [
    "Para verificar que estas dos variables se agreguen al marco de datos de SF, use la función 'print' para imprimir algunos de los valores de estas columnas y 'type' para verificar que estas columnas nuevas contengan, de hecho, valores numéricos."
   ]
  },
  {
   "cell_type": "code",
   "execution_count": 16,
   "metadata": {},
   "outputs": [
    {
     "name": "stdout",
     "output_type": "stream",
     "text": [
      "0    8\n",
      "1    8\n",
      "Name: Month, dtype: int64\n",
      "0    31\n",
      "1    31\n",
      "Name: Day, dtype: int64\n"
     ]
    }
   ],
   "source": [
    "# Code cell 8\n",
    "print(SF['Month'][0:2])\n",
    "print(SF['Day'][0:2])"
   ]
  },
  {
   "cell_type": "code",
   "execution_count": 17,
   "metadata": {},
   "outputs": [
    {
     "name": "stdout",
     "output_type": "stream",
     "text": [
      "<class 'numpy.int64'>\n"
     ]
    }
   ],
   "source": [
    "# Code cell 9\n",
    "print(type(SF['Month'][0]))"
   ]
  },
  {
   "cell_type": "markdown",
   "metadata": {},
   "source": [
    "#### Paso 2: Eliminar las variables del marco de datos de SF."
   ]
  },
  {
   "cell_type": "markdown",
   "metadata": {},
   "source": [
    "a) La columna 'IncidntNum' contiene varias celdas con NaN. En este caso, faltan los datos. Además, 'IncidntNum' no proporciona ningún valor al análisis. La columna se puede descartar del marco de datos. Una manera de eliminar variables que no desea en un marco de datos es mediante la función 'del'."
   ]
  },
  {
   "cell_type": "code",
   "execution_count": 22,
   "metadata": {},
   "outputs": [
    {
     "ename": "KeyError",
     "evalue": "'IncidntNum'",
     "output_type": "error",
     "traceback": [
      "\u001b[1;31m---------------------------------------------------------------------------\u001b[0m",
      "\u001b[1;31mKeyError\u001b[0m                                  Traceback (most recent call last)",
      "\u001b[1;32mC:\\ProgramData\\Anaconda4\\lib\\site-packages\\pandas\\core\\indexes\\base.py\u001b[0m in \u001b[0;36mget_loc\u001b[1;34m(self, key, method, tolerance)\u001b[0m\n\u001b[0;32m   2896\u001b[0m             \u001b[1;32mtry\u001b[0m\u001b[1;33m:\u001b[0m\u001b[1;33m\u001b[0m\u001b[1;33m\u001b[0m\u001b[0m\n\u001b[1;32m-> 2897\u001b[1;33m                 \u001b[1;32mreturn\u001b[0m \u001b[0mself\u001b[0m\u001b[1;33m.\u001b[0m\u001b[0m_engine\u001b[0m\u001b[1;33m.\u001b[0m\u001b[0mget_loc\u001b[0m\u001b[1;33m(\u001b[0m\u001b[0mkey\u001b[0m\u001b[1;33m)\u001b[0m\u001b[1;33m\u001b[0m\u001b[1;33m\u001b[0m\u001b[0m\n\u001b[0m\u001b[0;32m   2898\u001b[0m             \u001b[1;32mexcept\u001b[0m \u001b[0mKeyError\u001b[0m\u001b[1;33m:\u001b[0m\u001b[1;33m\u001b[0m\u001b[1;33m\u001b[0m\u001b[0m\n",
      "\u001b[1;32mpandas\\_libs\\index.pyx\u001b[0m in \u001b[0;36mpandas._libs.index.IndexEngine.get_loc\u001b[1;34m()\u001b[0m\n",
      "\u001b[1;32mpandas\\_libs\\index.pyx\u001b[0m in \u001b[0;36mpandas._libs.index.IndexEngine.get_loc\u001b[1;34m()\u001b[0m\n",
      "\u001b[1;32mpandas\\_libs\\hashtable_class_helper.pxi\u001b[0m in \u001b[0;36mpandas._libs.hashtable.PyObjectHashTable.get_item\u001b[1;34m()\u001b[0m\n",
      "\u001b[1;32mpandas\\_libs\\hashtable_class_helper.pxi\u001b[0m in \u001b[0;36mpandas._libs.hashtable.PyObjectHashTable.get_item\u001b[1;34m()\u001b[0m\n",
      "\u001b[1;31mKeyError\u001b[0m: 'IncidntNum'",
      "\nDuring handling of the above exception, another exception occurred:\n",
      "\u001b[1;31mKeyError\u001b[0m                                  Traceback (most recent call last)",
      "\u001b[1;32m<ipython-input-22-908afcd19c22>\u001b[0m in \u001b[0;36m<module>\u001b[1;34m\u001b[0m\n\u001b[0;32m      1\u001b[0m \u001b[1;31m# Code cell 10\u001b[0m\u001b[1;33m\u001b[0m\u001b[1;33m\u001b[0m\u001b[1;33m\u001b[0m\u001b[0m\n\u001b[1;32m----> 2\u001b[1;33m \u001b[1;32mdel\u001b[0m \u001b[0mSF\u001b[0m\u001b[1;33m[\u001b[0m\u001b[1;34m'IncidntNum'\u001b[0m\u001b[1;33m]\u001b[0m\u001b[1;33m\u001b[0m\u001b[1;33m\u001b[0m\u001b[0m\n\u001b[0m",
      "\u001b[1;32mC:\\ProgramData\\Anaconda4\\lib\\site-packages\\pandas\\core\\generic.py\u001b[0m in \u001b[0;36m__delitem__\u001b[1;34m(self, key)\u001b[0m\n\u001b[0;32m   3514\u001b[0m             \u001b[1;31m# there was no match, this call should raise the appropriate\u001b[0m\u001b[1;33m\u001b[0m\u001b[1;33m\u001b[0m\u001b[1;33m\u001b[0m\u001b[0m\n\u001b[0;32m   3515\u001b[0m             \u001b[1;31m# exception:\u001b[0m\u001b[1;33m\u001b[0m\u001b[1;33m\u001b[0m\u001b[1;33m\u001b[0m\u001b[0m\n\u001b[1;32m-> 3516\u001b[1;33m             \u001b[0mself\u001b[0m\u001b[1;33m.\u001b[0m\u001b[0m_data\u001b[0m\u001b[1;33m.\u001b[0m\u001b[0mdelete\u001b[0m\u001b[1;33m(\u001b[0m\u001b[0mkey\u001b[0m\u001b[1;33m)\u001b[0m\u001b[1;33m\u001b[0m\u001b[1;33m\u001b[0m\u001b[0m\n\u001b[0m\u001b[0;32m   3517\u001b[0m \u001b[1;33m\u001b[0m\u001b[0m\n\u001b[0;32m   3518\u001b[0m         \u001b[1;31m# delete from the caches\u001b[0m\u001b[1;33m\u001b[0m\u001b[1;33m\u001b[0m\u001b[1;33m\u001b[0m\u001b[0m\n",
      "\u001b[1;32mC:\\ProgramData\\Anaconda4\\lib\\site-packages\\pandas\\core\\internals\\managers.py\u001b[0m in \u001b[0;36mdelete\u001b[1;34m(self, item)\u001b[0m\n\u001b[0;32m    994\u001b[0m         \u001b[0mDelete\u001b[0m \u001b[0mselected\u001b[0m \u001b[0mitem\u001b[0m \u001b[1;33m(\u001b[0m\u001b[0mitems\u001b[0m \u001b[1;32mif\u001b[0m \u001b[0mnon\u001b[0m\u001b[1;33m-\u001b[0m\u001b[0munique\u001b[0m\u001b[1;33m)\u001b[0m \u001b[1;32min\u001b[0m\u001b[1;33m-\u001b[0m\u001b[0mplace\u001b[0m\u001b[1;33m.\u001b[0m\u001b[1;33m\u001b[0m\u001b[1;33m\u001b[0m\u001b[0m\n\u001b[0;32m    995\u001b[0m         \"\"\"\n\u001b[1;32m--> 996\u001b[1;33m         \u001b[0mindexer\u001b[0m \u001b[1;33m=\u001b[0m \u001b[0mself\u001b[0m\u001b[1;33m.\u001b[0m\u001b[0mitems\u001b[0m\u001b[1;33m.\u001b[0m\u001b[0mget_loc\u001b[0m\u001b[1;33m(\u001b[0m\u001b[0mitem\u001b[0m\u001b[1;33m)\u001b[0m\u001b[1;33m\u001b[0m\u001b[1;33m\u001b[0m\u001b[0m\n\u001b[0m\u001b[0;32m    997\u001b[0m \u001b[1;33m\u001b[0m\u001b[0m\n\u001b[0;32m    998\u001b[0m         \u001b[0mis_deleted\u001b[0m \u001b[1;33m=\u001b[0m \u001b[0mnp\u001b[0m\u001b[1;33m.\u001b[0m\u001b[0mzeros\u001b[0m\u001b[1;33m(\u001b[0m\u001b[0mself\u001b[0m\u001b[1;33m.\u001b[0m\u001b[0mshape\u001b[0m\u001b[1;33m[\u001b[0m\u001b[1;36m0\u001b[0m\u001b[1;33m]\u001b[0m\u001b[1;33m,\u001b[0m \u001b[0mdtype\u001b[0m\u001b[1;33m=\u001b[0m\u001b[0mnp\u001b[0m\u001b[1;33m.\u001b[0m\u001b[0mbool_\u001b[0m\u001b[1;33m)\u001b[0m\u001b[1;33m\u001b[0m\u001b[1;33m\u001b[0m\u001b[0m\n",
      "\u001b[1;32mC:\\ProgramData\\Anaconda4\\lib\\site-packages\\pandas\\core\\indexes\\base.py\u001b[0m in \u001b[0;36mget_loc\u001b[1;34m(self, key, method, tolerance)\u001b[0m\n\u001b[0;32m   2897\u001b[0m                 \u001b[1;32mreturn\u001b[0m \u001b[0mself\u001b[0m\u001b[1;33m.\u001b[0m\u001b[0m_engine\u001b[0m\u001b[1;33m.\u001b[0m\u001b[0mget_loc\u001b[0m\u001b[1;33m(\u001b[0m\u001b[0mkey\u001b[0m\u001b[1;33m)\u001b[0m\u001b[1;33m\u001b[0m\u001b[1;33m\u001b[0m\u001b[0m\n\u001b[0;32m   2898\u001b[0m             \u001b[1;32mexcept\u001b[0m \u001b[0mKeyError\u001b[0m\u001b[1;33m:\u001b[0m\u001b[1;33m\u001b[0m\u001b[1;33m\u001b[0m\u001b[0m\n\u001b[1;32m-> 2899\u001b[1;33m                 \u001b[1;32mreturn\u001b[0m \u001b[0mself\u001b[0m\u001b[1;33m.\u001b[0m\u001b[0m_engine\u001b[0m\u001b[1;33m.\u001b[0m\u001b[0mget_loc\u001b[0m\u001b[1;33m(\u001b[0m\u001b[0mself\u001b[0m\u001b[1;33m.\u001b[0m\u001b[0m_maybe_cast_indexer\u001b[0m\u001b[1;33m(\u001b[0m\u001b[0mkey\u001b[0m\u001b[1;33m)\u001b[0m\u001b[1;33m)\u001b[0m\u001b[1;33m\u001b[0m\u001b[1;33m\u001b[0m\u001b[0m\n\u001b[0m\u001b[0;32m   2900\u001b[0m         \u001b[0mindexer\u001b[0m \u001b[1;33m=\u001b[0m \u001b[0mself\u001b[0m\u001b[1;33m.\u001b[0m\u001b[0mget_indexer\u001b[0m\u001b[1;33m(\u001b[0m\u001b[1;33m[\u001b[0m\u001b[0mkey\u001b[0m\u001b[1;33m]\u001b[0m\u001b[1;33m,\u001b[0m \u001b[0mmethod\u001b[0m\u001b[1;33m=\u001b[0m\u001b[0mmethod\u001b[0m\u001b[1;33m,\u001b[0m \u001b[0mtolerance\u001b[0m\u001b[1;33m=\u001b[0m\u001b[0mtolerance\u001b[0m\u001b[1;33m)\u001b[0m\u001b[1;33m\u001b[0m\u001b[1;33m\u001b[0m\u001b[0m\n\u001b[0;32m   2901\u001b[0m         \u001b[1;32mif\u001b[0m \u001b[0mindexer\u001b[0m\u001b[1;33m.\u001b[0m\u001b[0mndim\u001b[0m \u001b[1;33m>\u001b[0m \u001b[1;36m1\u001b[0m \u001b[1;32mor\u001b[0m \u001b[0mindexer\u001b[0m\u001b[1;33m.\u001b[0m\u001b[0msize\u001b[0m \u001b[1;33m>\u001b[0m \u001b[1;36m1\u001b[0m\u001b[1;33m:\u001b[0m\u001b[1;33m\u001b[0m\u001b[1;33m\u001b[0m\u001b[0m\n",
      "\u001b[1;32mpandas\\_libs\\index.pyx\u001b[0m in \u001b[0;36mpandas._libs.index.IndexEngine.get_loc\u001b[1;34m()\u001b[0m\n",
      "\u001b[1;32mpandas\\_libs\\index.pyx\u001b[0m in \u001b[0;36mpandas._libs.index.IndexEngine.get_loc\u001b[1;34m()\u001b[0m\n",
      "\u001b[1;32mpandas\\_libs\\hashtable_class_helper.pxi\u001b[0m in \u001b[0;36mpandas._libs.hashtable.PyObjectHashTable.get_item\u001b[1;34m()\u001b[0m\n",
      "\u001b[1;32mpandas\\_libs\\hashtable_class_helper.pxi\u001b[0m in \u001b[0;36mpandas._libs.hashtable.PyObjectHashTable.get_item\u001b[1;34m()\u001b[0m\n",
      "\u001b[1;31mKeyError\u001b[0m: 'IncidntNum'"
     ]
    }
   ],
   "source": [
    "# Code cell 10\n",
    "del SF['IncidntNum']"
   ]
  },
  {
   "cell_type": "markdown",
   "metadata": {},
   "source": [
    "b) De manera similar, el atributo 'Location' no se incluirá en este análisis. Puede descartarse del marco de datos. \n",
    "<p>O bien, puede usar la función 'drop' en el marco de datos y especificar que el *eje* es el 1 (0 para las filas) y que el comando no requiere una asignación a otro valor para almacenar el resultado (*inplace = True*)."
   ]
  },
  {
   "cell_type": "code",
   "execution_count": 21,
   "metadata": {},
   "outputs": [
    {
     "ename": "KeyError",
     "evalue": "\"['Location'] not found in axis\"",
     "output_type": "error",
     "traceback": [
      "\u001b[1;31m---------------------------------------------------------------------------\u001b[0m",
      "\u001b[1;31mKeyError\u001b[0m                                  Traceback (most recent call last)",
      "\u001b[1;32m<ipython-input-21-42ac2632e5e4>\u001b[0m in \u001b[0;36m<module>\u001b[1;34m\u001b[0m\n\u001b[0;32m      1\u001b[0m \u001b[1;31m# Code cell 11\u001b[0m\u001b[1;33m\u001b[0m\u001b[1;33m\u001b[0m\u001b[1;33m\u001b[0m\u001b[0m\n\u001b[1;32m----> 2\u001b[1;33m \u001b[0mSF\u001b[0m\u001b[1;33m.\u001b[0m\u001b[0mdrop\u001b[0m\u001b[1;33m(\u001b[0m\u001b[1;34m'Location'\u001b[0m\u001b[1;33m,\u001b[0m \u001b[0maxis\u001b[0m\u001b[1;33m=\u001b[0m\u001b[1;36m1\u001b[0m\u001b[1;33m,\u001b[0m \u001b[0minplace\u001b[0m\u001b[1;33m=\u001b[0m\u001b[1;32mTrue\u001b[0m \u001b[1;33m)\u001b[0m\u001b[1;33m\u001b[0m\u001b[1;33m\u001b[0m\u001b[0m\n\u001b[0m",
      "\u001b[1;32mC:\\ProgramData\\Anaconda4\\lib\\site-packages\\pandas\\core\\frame.py\u001b[0m in \u001b[0;36mdrop\u001b[1;34m(self, labels, axis, index, columns, level, inplace, errors)\u001b[0m\n\u001b[0;32m   4100\u001b[0m             \u001b[0mlevel\u001b[0m\u001b[1;33m=\u001b[0m\u001b[0mlevel\u001b[0m\u001b[1;33m,\u001b[0m\u001b[1;33m\u001b[0m\u001b[1;33m\u001b[0m\u001b[0m\n\u001b[0;32m   4101\u001b[0m             \u001b[0minplace\u001b[0m\u001b[1;33m=\u001b[0m\u001b[0minplace\u001b[0m\u001b[1;33m,\u001b[0m\u001b[1;33m\u001b[0m\u001b[1;33m\u001b[0m\u001b[0m\n\u001b[1;32m-> 4102\u001b[1;33m             \u001b[0merrors\u001b[0m\u001b[1;33m=\u001b[0m\u001b[0merrors\u001b[0m\u001b[1;33m,\u001b[0m\u001b[1;33m\u001b[0m\u001b[1;33m\u001b[0m\u001b[0m\n\u001b[0m\u001b[0;32m   4103\u001b[0m         )\n\u001b[0;32m   4104\u001b[0m \u001b[1;33m\u001b[0m\u001b[0m\n",
      "\u001b[1;32mC:\\ProgramData\\Anaconda4\\lib\\site-packages\\pandas\\core\\generic.py\u001b[0m in \u001b[0;36mdrop\u001b[1;34m(self, labels, axis, index, columns, level, inplace, errors)\u001b[0m\n\u001b[0;32m   3912\u001b[0m         \u001b[1;32mfor\u001b[0m \u001b[0maxis\u001b[0m\u001b[1;33m,\u001b[0m \u001b[0mlabels\u001b[0m \u001b[1;32min\u001b[0m \u001b[0maxes\u001b[0m\u001b[1;33m.\u001b[0m\u001b[0mitems\u001b[0m\u001b[1;33m(\u001b[0m\u001b[1;33m)\u001b[0m\u001b[1;33m:\u001b[0m\u001b[1;33m\u001b[0m\u001b[1;33m\u001b[0m\u001b[0m\n\u001b[0;32m   3913\u001b[0m             \u001b[1;32mif\u001b[0m \u001b[0mlabels\u001b[0m \u001b[1;32mis\u001b[0m \u001b[1;32mnot\u001b[0m \u001b[1;32mNone\u001b[0m\u001b[1;33m:\u001b[0m\u001b[1;33m\u001b[0m\u001b[1;33m\u001b[0m\u001b[0m\n\u001b[1;32m-> 3914\u001b[1;33m                 \u001b[0mobj\u001b[0m \u001b[1;33m=\u001b[0m \u001b[0mobj\u001b[0m\u001b[1;33m.\u001b[0m\u001b[0m_drop_axis\u001b[0m\u001b[1;33m(\u001b[0m\u001b[0mlabels\u001b[0m\u001b[1;33m,\u001b[0m \u001b[0maxis\u001b[0m\u001b[1;33m,\u001b[0m \u001b[0mlevel\u001b[0m\u001b[1;33m=\u001b[0m\u001b[0mlevel\u001b[0m\u001b[1;33m,\u001b[0m \u001b[0merrors\u001b[0m\u001b[1;33m=\u001b[0m\u001b[0merrors\u001b[0m\u001b[1;33m)\u001b[0m\u001b[1;33m\u001b[0m\u001b[1;33m\u001b[0m\u001b[0m\n\u001b[0m\u001b[0;32m   3915\u001b[0m \u001b[1;33m\u001b[0m\u001b[0m\n\u001b[0;32m   3916\u001b[0m         \u001b[1;32mif\u001b[0m \u001b[0minplace\u001b[0m\u001b[1;33m:\u001b[0m\u001b[1;33m\u001b[0m\u001b[1;33m\u001b[0m\u001b[0m\n",
      "\u001b[1;32mC:\\ProgramData\\Anaconda4\\lib\\site-packages\\pandas\\core\\generic.py\u001b[0m in \u001b[0;36m_drop_axis\u001b[1;34m(self, labels, axis, level, errors)\u001b[0m\n\u001b[0;32m   3944\u001b[0m                 \u001b[0mnew_axis\u001b[0m \u001b[1;33m=\u001b[0m \u001b[0maxis\u001b[0m\u001b[1;33m.\u001b[0m\u001b[0mdrop\u001b[0m\u001b[1;33m(\u001b[0m\u001b[0mlabels\u001b[0m\u001b[1;33m,\u001b[0m \u001b[0mlevel\u001b[0m\u001b[1;33m=\u001b[0m\u001b[0mlevel\u001b[0m\u001b[1;33m,\u001b[0m \u001b[0merrors\u001b[0m\u001b[1;33m=\u001b[0m\u001b[0merrors\u001b[0m\u001b[1;33m)\u001b[0m\u001b[1;33m\u001b[0m\u001b[1;33m\u001b[0m\u001b[0m\n\u001b[0;32m   3945\u001b[0m             \u001b[1;32melse\u001b[0m\u001b[1;33m:\u001b[0m\u001b[1;33m\u001b[0m\u001b[1;33m\u001b[0m\u001b[0m\n\u001b[1;32m-> 3946\u001b[1;33m                 \u001b[0mnew_axis\u001b[0m \u001b[1;33m=\u001b[0m \u001b[0maxis\u001b[0m\u001b[1;33m.\u001b[0m\u001b[0mdrop\u001b[0m\u001b[1;33m(\u001b[0m\u001b[0mlabels\u001b[0m\u001b[1;33m,\u001b[0m \u001b[0merrors\u001b[0m\u001b[1;33m=\u001b[0m\u001b[0merrors\u001b[0m\u001b[1;33m)\u001b[0m\u001b[1;33m\u001b[0m\u001b[1;33m\u001b[0m\u001b[0m\n\u001b[0m\u001b[0;32m   3947\u001b[0m             \u001b[0mresult\u001b[0m \u001b[1;33m=\u001b[0m \u001b[0mself\u001b[0m\u001b[1;33m.\u001b[0m\u001b[0mreindex\u001b[0m\u001b[1;33m(\u001b[0m\u001b[1;33m**\u001b[0m\u001b[1;33m{\u001b[0m\u001b[0maxis_name\u001b[0m\u001b[1;33m:\u001b[0m \u001b[0mnew_axis\u001b[0m\u001b[1;33m}\u001b[0m\u001b[1;33m)\u001b[0m\u001b[1;33m\u001b[0m\u001b[1;33m\u001b[0m\u001b[0m\n\u001b[0;32m   3948\u001b[0m \u001b[1;33m\u001b[0m\u001b[0m\n",
      "\u001b[1;32mC:\\ProgramData\\Anaconda4\\lib\\site-packages\\pandas\\core\\indexes\\base.py\u001b[0m in \u001b[0;36mdrop\u001b[1;34m(self, labels, errors)\u001b[0m\n\u001b[0;32m   5338\u001b[0m         \u001b[1;32mif\u001b[0m \u001b[0mmask\u001b[0m\u001b[1;33m.\u001b[0m\u001b[0many\u001b[0m\u001b[1;33m(\u001b[0m\u001b[1;33m)\u001b[0m\u001b[1;33m:\u001b[0m\u001b[1;33m\u001b[0m\u001b[1;33m\u001b[0m\u001b[0m\n\u001b[0;32m   5339\u001b[0m             \u001b[1;32mif\u001b[0m \u001b[0merrors\u001b[0m \u001b[1;33m!=\u001b[0m \u001b[1;34m\"ignore\"\u001b[0m\u001b[1;33m:\u001b[0m\u001b[1;33m\u001b[0m\u001b[1;33m\u001b[0m\u001b[0m\n\u001b[1;32m-> 5340\u001b[1;33m                 \u001b[1;32mraise\u001b[0m \u001b[0mKeyError\u001b[0m\u001b[1;33m(\u001b[0m\u001b[1;34m\"{} not found in axis\"\u001b[0m\u001b[1;33m.\u001b[0m\u001b[0mformat\u001b[0m\u001b[1;33m(\u001b[0m\u001b[0mlabels\u001b[0m\u001b[1;33m[\u001b[0m\u001b[0mmask\u001b[0m\u001b[1;33m]\u001b[0m\u001b[1;33m)\u001b[0m\u001b[1;33m)\u001b[0m\u001b[1;33m\u001b[0m\u001b[1;33m\u001b[0m\u001b[0m\n\u001b[0m\u001b[0;32m   5341\u001b[0m             \u001b[0mindexer\u001b[0m \u001b[1;33m=\u001b[0m \u001b[0mindexer\u001b[0m\u001b[1;33m[\u001b[0m\u001b[1;33m~\u001b[0m\u001b[0mmask\u001b[0m\u001b[1;33m]\u001b[0m\u001b[1;33m\u001b[0m\u001b[1;33m\u001b[0m\u001b[0m\n\u001b[0;32m   5342\u001b[0m         \u001b[1;32mreturn\u001b[0m \u001b[0mself\u001b[0m\u001b[1;33m.\u001b[0m\u001b[0mdelete\u001b[0m\u001b[1;33m(\u001b[0m\u001b[0mindexer\u001b[0m\u001b[1;33m)\u001b[0m\u001b[1;33m\u001b[0m\u001b[1;33m\u001b[0m\u001b[0m\n",
      "\u001b[1;31mKeyError\u001b[0m: \"['Location'] not found in axis\""
     ]
    }
   ],
   "source": [
    "# Code cell 11\n",
    "SF.drop('Location', axis=1, inplace=True )"
   ]
  },
  {
   "cell_type": "markdown",
   "metadata": {},
   "source": [
    "c) Verifique que se hayan eliminado las columnas."
   ]
  },
  {
   "cell_type": "code",
   "execution_count": 23,
   "metadata": {},
   "outputs": [
    {
     "data": {
      "text/plain": [
       "Index(['Category', 'Descript', 'DayOfWeek', 'Date', 'Time', 'PdDistrict',\n",
       "       'Resolution', 'Address', 'X', 'Y', 'Month', 'Day'],\n",
       "      dtype='object')"
      ]
     },
     "execution_count": 23,
     "metadata": {},
     "output_type": "execute_result"
    }
   ],
   "source": [
    "# Code cell 12\n",
    "SF.columns"
   ]
  },
  {
   "cell_type": "markdown",
   "metadata": {},
   "source": [
    "## Parte 4: Analizar los datos\n",
    "\n",
    "Ahora que el marco de datos se ha elaborado con datos, es momento de analizar los datos. "
   ]
  },
  {
   "cell_type": "markdown",
   "metadata": {},
   "source": [
    "#### Paso 1: Resumir las variables para obtener información estadística.\n",
    "\n",
    "a) Utilice la función 'value_counts' para resumir la cantidad de delitos cometidos por tipo; luego seleccione 'print' para visualizar los contenidos de la variable *CountCategory*."
   ]
  },
  {
   "cell_type": "code",
   "execution_count": 24,
   "metadata": {
    "scrolled": true
   },
   "outputs": [
    {
     "name": "stdout",
     "output_type": "stream",
     "text": [
      "LARCENY/THEFT              8205\n",
      "OTHER OFFENSES             4004\n",
      "NON-CRIMINAL               3653\n",
      "ASSAULT                    2518\n",
      "VEHICLE THEFT              1885\n",
      "                           ... \n",
      "LOITERING                     5\n",
      "BAD CHECKS                    3\n",
      "BRIBERY                       1\n",
      "GAMBLING                      1\n",
      "PORNOGRAPHY/OBSCENE MAT       1\n",
      "Name: Category, Length: 36, dtype: int64\n"
     ]
    }
   ],
   "source": [
    "# Code cell 13\n",
    "CountCategory = SF['Category'].value_counts()\n",
    "print(CountCategory)"
   ]
  },
  {
   "cell_type": "markdown",
   "metadata": {},
   "source": [
    "b) De manera predeterminada, los conteos se ordenan de forma descendente. El valor del parámetro opcional *ascendente* se puede configurar en *True* para invertir este comportamiento."
   ]
  },
  {
   "cell_type": "code",
   "execution_count": 25,
   "metadata": {
    "scrolled": true
   },
   "outputs": [
    {
     "data": {
      "text/plain": [
       "PORNOGRAPHY/OBSCENE MAT       1\n",
       "GAMBLING                      1\n",
       "BRIBERY                       1\n",
       "BAD CHECKS                    3\n",
       "LOITERING                     5\n",
       "                           ... \n",
       "VEHICLE THEFT              1885\n",
       "ASSAULT                    2518\n",
       "NON-CRIMINAL               3653\n",
       "OTHER OFFENSES             4004\n",
       "LARCENY/THEFT              8205\n",
       "Name: Category, Length: 36, dtype: int64"
      ]
     },
     "execution_count": 25,
     "metadata": {},
     "output_type": "execute_result"
    }
   ],
   "source": [
    "# Code cell 14\n",
    "SF['Category'].value_counts(ascending=True)"
   ]
  },
  {
   "cell_type": "markdown",
   "metadata": {},
   "source": [
    "¿Qué tipo de delitos se cometió más?"
   ]
  },
  {
   "cell_type": "markdown",
   "metadata": {},
   "source": [
    "LARCENY/THEFT"
   ]
  },
  {
   "cell_type": "markdown",
   "metadata": {},
   "source": [
    "c) Al jerarquizar las dos funciones en un comando, puede lograr el mismo resultado con una línea de\n",
    "código."
   ]
  },
  {
   "cell_type": "code",
   "execution_count": 28,
   "metadata": {},
   "outputs": [
    {
     "name": "stdout",
     "output_type": "stream",
     "text": [
      "PORNOGRAPHY/OBSCENE MAT       1\n",
      "GAMBLING                      1\n",
      "BRIBERY                       1\n",
      "BAD CHECKS                    3\n",
      "LOITERING                     5\n",
      "                           ... \n",
      "VEHICLE THEFT              1885\n",
      "ASSAULT                    2518\n",
      "NON-CRIMINAL               3653\n",
      "OTHER OFFENSES             4004\n",
      "LARCENY/THEFT              8205\n",
      "Name: Category, Length: 36, dtype: int64\n",
      "RICHMOND      1622\n",
      "PARK          1800\n",
      "TARAVAL       2038\n",
      "TENDERLOIN    2449\n",
      "INGLESIDE     2613\n",
      "BAYVIEW       2970\n",
      "NORTHERN      3205\n",
      "CENTRAL       3867\n",
      "MISSION       4011\n",
      "SOUTHERN      6185\n",
      "Name: PdDistrict, dtype: int64\n"
     ]
    }
   ],
   "source": [
    "# Code cell 15\n",
    "print(SF['Category'].value_counts(ascending=True))\n",
    "print(SF['PdDistrict'].value_counts(ascending=True))"
   ]
  },
  {
   "cell_type": "markdown",
   "metadata": {},
   "source": [
    "**Pregunta de desafío**: ¿Qué PdDistrict presentaba la mayoría de los incidentes de delitos informados? Proporcione los comandos de Python\n",
    "utilizados para apoyar su respuesta."
   ]
  },
  {
   "cell_type": "markdown",
   "metadata": {
    "collapsed": true
   },
   "source": [
    "<font color ='gray'>*print(SF['PdDistrict'].value_counts(ascending=True))*</font>"
   ]
  },
  {
   "cell_type": "markdown",
   "metadata": {},
   "source": [
    "#### Paso 2: Crear subconjuntos de datos y organizarlos en marcos de datos más pequeños."
   ]
  },
  {
   "cell_type": "markdown",
   "metadata": {},
   "source": [
    "a) La indexación lógica se puede utilizar para seleccionar únicamente las filas en las cuales se cumple una condición específica. Por ejemplo, el código siguiente recupera sólo los delitos cometidos en agosto y guarda el resultado en un nuevo marco de datos."
   ]
  },
  {
   "cell_type": "code",
   "execution_count": 34,
   "metadata": {},
   "outputs": [
    {
     "data": {
      "text/html": [
       "<div>\n",
       "<style scoped>\n",
       "    .dataframe tbody tr th:only-of-type {\n",
       "        vertical-align: middle;\n",
       "    }\n",
       "\n",
       "    .dataframe tbody tr th {\n",
       "        vertical-align: top;\n",
       "    }\n",
       "\n",
       "    .dataframe thead th {\n",
       "        text-align: right;\n",
       "    }\n",
       "</style>\n",
       "<table border=\"1\" class=\"dataframe\">\n",
       "  <thead>\n",
       "    <tr style=\"text-align: right;\">\n",
       "      <th></th>\n",
       "      <th>Category</th>\n",
       "      <th>Descript</th>\n",
       "      <th>DayOfWeek</th>\n",
       "      <th>Date</th>\n",
       "      <th>Time</th>\n",
       "      <th>PdDistrict</th>\n",
       "      <th>Resolution</th>\n",
       "      <th>Address</th>\n",
       "      <th>X</th>\n",
       "      <th>Y</th>\n",
       "      <th>Month</th>\n",
       "      <th>Day</th>\n",
       "    </tr>\n",
       "  </thead>\n",
       "  <tbody>\n",
       "    <tr>\n",
       "      <td>0</td>\n",
       "      <td>LARCENY/THEFT</td>\n",
       "      <td>GRAND THEFT FROM UNLOCKED AUTO</td>\n",
       "      <td>Sunday</td>\n",
       "      <td>08/31/2014 07:00:00 AM +0000</td>\n",
       "      <td>20:30</td>\n",
       "      <td>CENTRAL</td>\n",
       "      <td>NONE</td>\n",
       "      <td>HYDE ST / CALIFORNIA ST</td>\n",
       "      <td>-122.417393</td>\n",
       "      <td>37.790974</td>\n",
       "      <td>8</td>\n",
       "      <td>31</td>\n",
       "    </tr>\n",
       "    <tr>\n",
       "      <td>1</td>\n",
       "      <td>LARCENY/THEFT</td>\n",
       "      <td>GRAND THEFT FROM LOCKED AUTO</td>\n",
       "      <td>Sunday</td>\n",
       "      <td>08/31/2014 07:00:00 AM +0000</td>\n",
       "      <td>14:30</td>\n",
       "      <td>CENTRAL</td>\n",
       "      <td>NONE</td>\n",
       "      <td>COLUMBUS AV / JACKSON ST</td>\n",
       "      <td>-122.404418</td>\n",
       "      <td>37.796302</td>\n",
       "      <td>8</td>\n",
       "      <td>31</td>\n",
       "    </tr>\n",
       "    <tr>\n",
       "      <td>2</td>\n",
       "      <td>LARCENY/THEFT</td>\n",
       "      <td>GRAND THEFT FROM LOCKED AUTO</td>\n",
       "      <td>Sunday</td>\n",
       "      <td>08/31/2014 07:00:00 AM +0000</td>\n",
       "      <td>11:30</td>\n",
       "      <td>CENTRAL</td>\n",
       "      <td>NONE</td>\n",
       "      <td>SUTTER ST / STOCKTON ST</td>\n",
       "      <td>-122.406959</td>\n",
       "      <td>37.789435</td>\n",
       "      <td>8</td>\n",
       "      <td>31</td>\n",
       "    </tr>\n",
       "    <tr>\n",
       "      <td>3</td>\n",
       "      <td>DRUG/NARCOTIC</td>\n",
       "      <td>POSSESSION OF METH-AMPHETAMINE</td>\n",
       "      <td>Sunday</td>\n",
       "      <td>08/31/2014 07:00:00 AM +0000</td>\n",
       "      <td>17:49</td>\n",
       "      <td>MISSION</td>\n",
       "      <td>ARREST, BOOKED</td>\n",
       "      <td>16TH ST / MISSION ST</td>\n",
       "      <td>-122.419672</td>\n",
       "      <td>37.765050</td>\n",
       "      <td>8</td>\n",
       "      <td>31</td>\n",
       "    </tr>\n",
       "    <tr>\n",
       "      <td>4</td>\n",
       "      <td>DRUG/NARCOTIC</td>\n",
       "      <td>POSSESSION OF COCAINE</td>\n",
       "      <td>Sunday</td>\n",
       "      <td>08/31/2014 07:00:00 AM +0000</td>\n",
       "      <td>18:05</td>\n",
       "      <td>NORTHERN</td>\n",
       "      <td>ARREST, BOOKED</td>\n",
       "      <td>LARKIN ST / OFARRELL ST</td>\n",
       "      <td>-122.417904</td>\n",
       "      <td>37.785167</td>\n",
       "      <td>8</td>\n",
       "      <td>31</td>\n",
       "    </tr>\n",
       "    <tr>\n",
       "      <td>...</td>\n",
       "      <td>...</td>\n",
       "      <td>...</td>\n",
       "      <td>...</td>\n",
       "      <td>...</td>\n",
       "      <td>...</td>\n",
       "      <td>...</td>\n",
       "      <td>...</td>\n",
       "      <td>...</td>\n",
       "      <td>...</td>\n",
       "      <td>...</td>\n",
       "      <td>...</td>\n",
       "      <td>...</td>\n",
       "    </tr>\n",
       "    <tr>\n",
       "      <td>9715</td>\n",
       "      <td>NON-CRIMINAL</td>\n",
       "      <td>AIDED CASE, MENTAL DISTURBED</td>\n",
       "      <td>Friday</td>\n",
       "      <td>08/01/2014 07:00:00 AM +0000</td>\n",
       "      <td>19:55</td>\n",
       "      <td>MISSION</td>\n",
       "      <td>NONE</td>\n",
       "      <td>1100.0 Block of POTRERO AV</td>\n",
       "      <td>-122.406497</td>\n",
       "      <td>37.754279</td>\n",
       "      <td>8</td>\n",
       "      <td>1</td>\n",
       "    </tr>\n",
       "    <tr>\n",
       "      <td>9716</td>\n",
       "      <td>OTHER OFFENSES</td>\n",
       "      <td>MISCELLANEOUS INVESTIGATION</td>\n",
       "      <td>Friday</td>\n",
       "      <td>08/01/2014 07:00:00 AM +0000</td>\n",
       "      <td>22:47</td>\n",
       "      <td>RICHMOND</td>\n",
       "      <td>NONE</td>\n",
       "      <td>1500.0 Block of BRODERICK ST</td>\n",
       "      <td>-122.441458</td>\n",
       "      <td>37.784427</td>\n",
       "      <td>8</td>\n",
       "      <td>1</td>\n",
       "    </tr>\n",
       "    <tr>\n",
       "      <td>9717</td>\n",
       "      <td>ASSAULT</td>\n",
       "      <td>THREATS AGAINST LIFE</td>\n",
       "      <td>Friday</td>\n",
       "      <td>08/01/2014 07:00:00 AM +0000</td>\n",
       "      <td>23:55</td>\n",
       "      <td>BAYVIEW</td>\n",
       "      <td>NONE</td>\n",
       "      <td>400.0 Block of TUNNEL AV</td>\n",
       "      <td>-122.401364</td>\n",
       "      <td>37.709748</td>\n",
       "      <td>8</td>\n",
       "      <td>1</td>\n",
       "    </tr>\n",
       "    <tr>\n",
       "      <td>9718</td>\n",
       "      <td>DRIVING UNDER THE INFLUENCE</td>\n",
       "      <td>DRIVING WHILE UNDER THE INFLUENCE OF ALCOHOL</td>\n",
       "      <td>Friday</td>\n",
       "      <td>08/01/2014 07:00:00 AM +0000</td>\n",
       "      <td>23:38</td>\n",
       "      <td>NORTHERN</td>\n",
       "      <td>ARREST, BOOKED</td>\n",
       "      <td>OAK ST / LAGUNA ST</td>\n",
       "      <td>-122.425892</td>\n",
       "      <td>37.774599</td>\n",
       "      <td>8</td>\n",
       "      <td>1</td>\n",
       "    </tr>\n",
       "    <tr>\n",
       "      <td>9719</td>\n",
       "      <td>SEX OFFENSES, FORCIBLE</td>\n",
       "      <td>ASSAULT TO RAPE WITH BODILY FORCE</td>\n",
       "      <td>Friday</td>\n",
       "      <td>08/01/2014 07:00:00 AM +0000</td>\n",
       "      <td>00:01</td>\n",
       "      <td>MISSION</td>\n",
       "      <td>NONE</td>\n",
       "      <td>1000.0 Block of POTRERO AV</td>\n",
       "      <td>-122.406657</td>\n",
       "      <td>37.756826</td>\n",
       "      <td>8</td>\n",
       "      <td>1</td>\n",
       "    </tr>\n",
       "  </tbody>\n",
       "</table>\n",
       "<p>9720 rows × 12 columns</p>\n",
       "</div>"
      ],
      "text/plain": [
       "                         Category  \\\n",
       "0                   LARCENY/THEFT   \n",
       "1                   LARCENY/THEFT   \n",
       "2                   LARCENY/THEFT   \n",
       "3                   DRUG/NARCOTIC   \n",
       "4                   DRUG/NARCOTIC   \n",
       "...                           ...   \n",
       "9715                 NON-CRIMINAL   \n",
       "9716               OTHER OFFENSES   \n",
       "9717                      ASSAULT   \n",
       "9718  DRIVING UNDER THE INFLUENCE   \n",
       "9719       SEX OFFENSES, FORCIBLE   \n",
       "\n",
       "                                          Descript DayOfWeek  \\\n",
       "0                   GRAND THEFT FROM UNLOCKED AUTO    Sunday   \n",
       "1                     GRAND THEFT FROM LOCKED AUTO    Sunday   \n",
       "2                     GRAND THEFT FROM LOCKED AUTO    Sunday   \n",
       "3                   POSSESSION OF METH-AMPHETAMINE    Sunday   \n",
       "4                            POSSESSION OF COCAINE    Sunday   \n",
       "...                                            ...       ...   \n",
       "9715                  AIDED CASE, MENTAL DISTURBED    Friday   \n",
       "9716                   MISCELLANEOUS INVESTIGATION    Friday   \n",
       "9717                          THREATS AGAINST LIFE    Friday   \n",
       "9718  DRIVING WHILE UNDER THE INFLUENCE OF ALCOHOL    Friday   \n",
       "9719             ASSAULT TO RAPE WITH BODILY FORCE    Friday   \n",
       "\n",
       "                              Date   Time PdDistrict      Resolution  \\\n",
       "0     08/31/2014 07:00:00 AM +0000  20:30    CENTRAL            NONE   \n",
       "1     08/31/2014 07:00:00 AM +0000  14:30    CENTRAL            NONE   \n",
       "2     08/31/2014 07:00:00 AM +0000  11:30    CENTRAL            NONE   \n",
       "3     08/31/2014 07:00:00 AM +0000  17:49    MISSION  ARREST, BOOKED   \n",
       "4     08/31/2014 07:00:00 AM +0000  18:05   NORTHERN  ARREST, BOOKED   \n",
       "...                            ...    ...        ...             ...   \n",
       "9715  08/01/2014 07:00:00 AM +0000  19:55    MISSION            NONE   \n",
       "9716  08/01/2014 07:00:00 AM +0000  22:47   RICHMOND            NONE   \n",
       "9717  08/01/2014 07:00:00 AM +0000  23:55    BAYVIEW            NONE   \n",
       "9718  08/01/2014 07:00:00 AM +0000  23:38   NORTHERN  ARREST, BOOKED   \n",
       "9719  08/01/2014 07:00:00 AM +0000  00:01    MISSION            NONE   \n",
       "\n",
       "                           Address           X          Y  Month  Day  \n",
       "0          HYDE ST / CALIFORNIA ST -122.417393  37.790974      8   31  \n",
       "1         COLUMBUS AV / JACKSON ST -122.404418  37.796302      8   31  \n",
       "2          SUTTER ST / STOCKTON ST -122.406959  37.789435      8   31  \n",
       "3             16TH ST / MISSION ST -122.419672  37.765050      8   31  \n",
       "4          LARKIN ST / OFARRELL ST -122.417904  37.785167      8   31  \n",
       "...                            ...         ...        ...    ...  ...  \n",
       "9715    1100.0 Block of POTRERO AV -122.406497  37.754279      8    1  \n",
       "9716  1500.0 Block of BRODERICK ST -122.441458  37.784427      8    1  \n",
       "9717      400.0 Block of TUNNEL AV -122.401364  37.709748      8    1  \n",
       "9718            OAK ST / LAGUNA ST -122.425892  37.774599      8    1  \n",
       "9719    1000.0 Block of POTRERO AV -122.406657  37.756826      8    1  \n",
       "\n",
       "[9720 rows x 12 columns]"
      ]
     },
     "execution_count": 34,
     "metadata": {},
     "output_type": "execute_result"
    }
   ],
   "source": [
    "# Code cell 16\n",
    "AugustCrimes = SF[SF['Month'] == 8]\n",
    "AugustCrimes"
   ]
  },
  {
   "cell_type": "markdown",
   "metadata": {},
   "source": [
    "¿Cuántos incidentes de delitos hubo en agosto? "
   ]
  },
  {
   "cell_type": "markdown",
   "metadata": {
    "collapsed": true
   },
   "source": [
    "<font color ='gray'>*9720*</font>"
   ]
  },
  {
   "cell_type": "markdown",
   "metadata": {},
   "source": [
    "¿Cuántos robos se informaron en agosto?"
   ]
  },
  {
   "cell_type": "markdown",
   "metadata": {},
   "source": [
    "<font color ='gray'>*8205*</font>"
   ]
  },
  {
   "cell_type": "code",
   "execution_count": 32,
   "metadata": {},
   "outputs": [
    {
     "data": {
      "text/plain": [
       "1257"
      ]
     },
     "execution_count": 32,
     "metadata": {},
     "output_type": "execute_result"
    }
   ],
   "source": [
    "# code cell 17\n",
    "# Possible code for the question: How many burglaries were reported in the month of August?\n",
    "AugustCrimes = SF[SF['Month'] == 8]\n",
    "AugustCrimesB = SF[SF['Category'] == 'BURGLARY']\n",
    "len(AugustCrimesB)"
   ]
  },
  {
   "cell_type": "markdown",
   "metadata": {},
   "source": [
    "b) Para crear un subconjunto del marco de datos de SF para un día específico, use la función 'query' para comparar el mes y el día al mismo tiempo."
   ]
  },
  {
   "cell_type": "code",
   "execution_count": 35,
   "metadata": {},
   "outputs": [
    {
     "data": {
      "text/html": [
       "<div>\n",
       "<style scoped>\n",
       "    .dataframe tbody tr th:only-of-type {\n",
       "        vertical-align: middle;\n",
       "    }\n",
       "\n",
       "    .dataframe tbody tr th {\n",
       "        vertical-align: top;\n",
       "    }\n",
       "\n",
       "    .dataframe thead th {\n",
       "        text-align: right;\n",
       "    }\n",
       "</style>\n",
       "<table border=\"1\" class=\"dataframe\">\n",
       "  <thead>\n",
       "    <tr style=\"text-align: right;\">\n",
       "      <th></th>\n",
       "      <th>Category</th>\n",
       "      <th>Descript</th>\n",
       "      <th>DayOfWeek</th>\n",
       "      <th>Date</th>\n",
       "      <th>Time</th>\n",
       "      <th>PdDistrict</th>\n",
       "      <th>Resolution</th>\n",
       "      <th>Address</th>\n",
       "      <th>X</th>\n",
       "      <th>Y</th>\n",
       "      <th>Month</th>\n",
       "      <th>Day</th>\n",
       "    </tr>\n",
       "  </thead>\n",
       "  <tbody>\n",
       "    <tr>\n",
       "      <td>19087</td>\n",
       "      <td>LARCENY/THEFT</td>\n",
       "      <td>GRAND THEFT FROM LOCKED AUTO</td>\n",
       "      <td>Friday</td>\n",
       "      <td>07/04/2014 07:00:00 AM +0000</td>\n",
       "      <td>22:30</td>\n",
       "      <td>SOUTHERN</td>\n",
       "      <td>NONE</td>\n",
       "      <td>8TH ST / MISSION ST</td>\n",
       "      <td>-122.413161</td>\n",
       "      <td>37.777457</td>\n",
       "      <td>7</td>\n",
       "      <td>4</td>\n",
       "    </tr>\n",
       "    <tr>\n",
       "      <td>19088</td>\n",
       "      <td>LARCENY/THEFT</td>\n",
       "      <td>GRAND THEFT FROM LOCKED AUTO</td>\n",
       "      <td>Friday</td>\n",
       "      <td>07/04/2014 07:00:00 AM +0000</td>\n",
       "      <td>18:15</td>\n",
       "      <td>SOUTHERN</td>\n",
       "      <td>NONE</td>\n",
       "      <td>CLEMENTINA ST / 9TH ST</td>\n",
       "      <td>-122.412174</td>\n",
       "      <td>37.774201</td>\n",
       "      <td>7</td>\n",
       "      <td>4</td>\n",
       "    </tr>\n",
       "    <tr>\n",
       "      <td>19089</td>\n",
       "      <td>BURGLARY</td>\n",
       "      <td>BURGLARY,RESIDENCE UNDER CONSTRT, FORCIBLE ENTRY</td>\n",
       "      <td>Friday</td>\n",
       "      <td>07/04/2014 07:00:00 AM +0000</td>\n",
       "      <td>00:50</td>\n",
       "      <td>TARAVAL</td>\n",
       "      <td>NONE</td>\n",
       "      <td>0.0 Block of MENDOSA AV</td>\n",
       "      <td>-122.466414</td>\n",
       "      <td>37.748011</td>\n",
       "      <td>7</td>\n",
       "      <td>4</td>\n",
       "    </tr>\n",
       "    <tr>\n",
       "      <td>19090</td>\n",
       "      <td>NON-CRIMINAL</td>\n",
       "      <td>LOST PROPERTY</td>\n",
       "      <td>Friday</td>\n",
       "      <td>07/04/2014 07:00:00 AM +0000</td>\n",
       "      <td>19:00</td>\n",
       "      <td>PARK</td>\n",
       "      <td>NONE</td>\n",
       "      <td>CASTRO ST / 16TH ST</td>\n",
       "      <td>-122.435318</td>\n",
       "      <td>37.764102</td>\n",
       "      <td>7</td>\n",
       "      <td>4</td>\n",
       "    </tr>\n",
       "    <tr>\n",
       "      <td>19091</td>\n",
       "      <td>ASSAULT</td>\n",
       "      <td>BATTERY</td>\n",
       "      <td>Friday</td>\n",
       "      <td>07/04/2014 07:00:00 AM +0000</td>\n",
       "      <td>21:00</td>\n",
       "      <td>NORTHERN</td>\n",
       "      <td>NONE</td>\n",
       "      <td>1000.0 Block of POLK ST</td>\n",
       "      <td>-122.419783</td>\n",
       "      <td>37.785894</td>\n",
       "      <td>7</td>\n",
       "      <td>4</td>\n",
       "    </tr>\n",
       "    <tr>\n",
       "      <td>...</td>\n",
       "      <td>...</td>\n",
       "      <td>...</td>\n",
       "      <td>...</td>\n",
       "      <td>...</td>\n",
       "      <td>...</td>\n",
       "      <td>...</td>\n",
       "      <td>...</td>\n",
       "      <td>...</td>\n",
       "      <td>...</td>\n",
       "      <td>...</td>\n",
       "      <td>...</td>\n",
       "      <td>...</td>\n",
       "    </tr>\n",
       "    <tr>\n",
       "      <td>19423</td>\n",
       "      <td>LARCENY/THEFT</td>\n",
       "      <td>GRAND THEFT FROM LOCKED AUTO</td>\n",
       "      <td>Friday</td>\n",
       "      <td>07/04/2014 07:00:00 AM +0000</td>\n",
       "      <td>19:25</td>\n",
       "      <td>SOUTHERN</td>\n",
       "      <td>NONE</td>\n",
       "      <td>THE EMBARCADEROSOUTH ST / BRYANT ST</td>\n",
       "      <td>-122.388007</td>\n",
       "      <td>37.787103</td>\n",
       "      <td>7</td>\n",
       "      <td>4</td>\n",
       "    </tr>\n",
       "    <tr>\n",
       "      <td>19424</td>\n",
       "      <td>OTHER OFFENSES</td>\n",
       "      <td>LOST/STOLEN LICENSE PLATE</td>\n",
       "      <td>Friday</td>\n",
       "      <td>07/04/2014 07:00:00 AM +0000</td>\n",
       "      <td>11:00</td>\n",
       "      <td>INGLESIDE</td>\n",
       "      <td>NONE</td>\n",
       "      <td>0.0 Block of FRATESSA CT</td>\n",
       "      <td>-122.399762</td>\n",
       "      <td>37.716129</td>\n",
       "      <td>7</td>\n",
       "      <td>4</td>\n",
       "    </tr>\n",
       "    <tr>\n",
       "      <td>19425</td>\n",
       "      <td>LARCENY/THEFT</td>\n",
       "      <td>GRAND THEFT FROM LOCKED AUTO</td>\n",
       "      <td>Friday</td>\n",
       "      <td>07/04/2014 07:00:00 AM +0000</td>\n",
       "      <td>20:30</td>\n",
       "      <td>SOUTHERN</td>\n",
       "      <td>NONE</td>\n",
       "      <td>THE EMBARCADEROSOUTH ST / HARRISON ST</td>\n",
       "      <td>-122.388486</td>\n",
       "      <td>37.789573</td>\n",
       "      <td>7</td>\n",
       "      <td>4</td>\n",
       "    </tr>\n",
       "    <tr>\n",
       "      <td>19426</td>\n",
       "      <td>LARCENY/THEFT</td>\n",
       "      <td>GRAND THEFT FROM LOCKED AUTO</td>\n",
       "      <td>Friday</td>\n",
       "      <td>07/04/2014 07:00:00 AM +0000</td>\n",
       "      <td>08:00</td>\n",
       "      <td>SOUTHERN</td>\n",
       "      <td>NONE</td>\n",
       "      <td>11TH ST / HARRISON ST</td>\n",
       "      <td>-122.412483</td>\n",
       "      <td>37.770631</td>\n",
       "      <td>7</td>\n",
       "      <td>4</td>\n",
       "    </tr>\n",
       "    <tr>\n",
       "      <td>19427</td>\n",
       "      <td>LARCENY/THEFT</td>\n",
       "      <td>PETTY THEFT OF PROPERTY</td>\n",
       "      <td>Friday</td>\n",
       "      <td>07/04/2014 07:00:00 AM +0000</td>\n",
       "      <td>15:30</td>\n",
       "      <td>RICHMOND</td>\n",
       "      <td>NONE</td>\n",
       "      <td>3900.0 Block of GEARY BL</td>\n",
       "      <td>-122.461295</td>\n",
       "      <td>37.781181</td>\n",
       "      <td>7</td>\n",
       "      <td>4</td>\n",
       "    </tr>\n",
       "  </tbody>\n",
       "</table>\n",
       "<p>341 rows × 12 columns</p>\n",
       "</div>"
      ],
      "text/plain": [
       "             Category                                          Descript  \\\n",
       "19087   LARCENY/THEFT                      GRAND THEFT FROM LOCKED AUTO   \n",
       "19088   LARCENY/THEFT                      GRAND THEFT FROM LOCKED AUTO   \n",
       "19089        BURGLARY  BURGLARY,RESIDENCE UNDER CONSTRT, FORCIBLE ENTRY   \n",
       "19090    NON-CRIMINAL                                     LOST PROPERTY   \n",
       "19091         ASSAULT                                           BATTERY   \n",
       "...               ...                                               ...   \n",
       "19423   LARCENY/THEFT                      GRAND THEFT FROM LOCKED AUTO   \n",
       "19424  OTHER OFFENSES                         LOST/STOLEN LICENSE PLATE   \n",
       "19425   LARCENY/THEFT                      GRAND THEFT FROM LOCKED AUTO   \n",
       "19426   LARCENY/THEFT                      GRAND THEFT FROM LOCKED AUTO   \n",
       "19427   LARCENY/THEFT                           PETTY THEFT OF PROPERTY   \n",
       "\n",
       "      DayOfWeek                          Date   Time PdDistrict Resolution  \\\n",
       "19087    Friday  07/04/2014 07:00:00 AM +0000  22:30   SOUTHERN       NONE   \n",
       "19088    Friday  07/04/2014 07:00:00 AM +0000  18:15   SOUTHERN       NONE   \n",
       "19089    Friday  07/04/2014 07:00:00 AM +0000  00:50    TARAVAL       NONE   \n",
       "19090    Friday  07/04/2014 07:00:00 AM +0000  19:00       PARK       NONE   \n",
       "19091    Friday  07/04/2014 07:00:00 AM +0000  21:00   NORTHERN       NONE   \n",
       "...         ...                           ...    ...        ...        ...   \n",
       "19423    Friday  07/04/2014 07:00:00 AM +0000  19:25   SOUTHERN       NONE   \n",
       "19424    Friday  07/04/2014 07:00:00 AM +0000  11:00  INGLESIDE       NONE   \n",
       "19425    Friday  07/04/2014 07:00:00 AM +0000  20:30   SOUTHERN       NONE   \n",
       "19426    Friday  07/04/2014 07:00:00 AM +0000  08:00   SOUTHERN       NONE   \n",
       "19427    Friday  07/04/2014 07:00:00 AM +0000  15:30   RICHMOND       NONE   \n",
       "\n",
       "                                     Address           X          Y  Month  \\\n",
       "19087                    8TH ST / MISSION ST -122.413161  37.777457      7   \n",
       "19088                 CLEMENTINA ST / 9TH ST -122.412174  37.774201      7   \n",
       "19089                0.0 Block of MENDOSA AV -122.466414  37.748011      7   \n",
       "19090                    CASTRO ST / 16TH ST -122.435318  37.764102      7   \n",
       "19091                1000.0 Block of POLK ST -122.419783  37.785894      7   \n",
       "...                                      ...         ...        ...    ...   \n",
       "19423    THE EMBARCADEROSOUTH ST / BRYANT ST -122.388007  37.787103      7   \n",
       "19424               0.0 Block of FRATESSA CT -122.399762  37.716129      7   \n",
       "19425  THE EMBARCADEROSOUTH ST / HARRISON ST -122.388486  37.789573      7   \n",
       "19426                  11TH ST / HARRISON ST -122.412483  37.770631      7   \n",
       "19427               3900.0 Block of GEARY BL -122.461295  37.781181      7   \n",
       "\n",
       "       Day  \n",
       "19087    4  \n",
       "19088    4  \n",
       "19089    4  \n",
       "19090    4  \n",
       "19091    4  \n",
       "...    ...  \n",
       "19423    4  \n",
       "19424    4  \n",
       "19425    4  \n",
       "19426    4  \n",
       "19427    4  \n",
       "\n",
       "[341 rows x 12 columns]"
      ]
     },
     "execution_count": 35,
     "metadata": {},
     "output_type": "execute_result"
    }
   ],
   "source": [
    "# Code cell 18\n",
    "Crime0704 = SF.query('Month == 7 and Day == 4')\n",
    "Crime0704"
   ]
  },
  {
   "cell_type": "code",
   "execution_count": 36,
   "metadata": {},
   "outputs": [
    {
     "data": {
      "text/plain": [
       "Index(['Category', 'Descript', 'DayOfWeek', 'Date', 'Time', 'PdDistrict',\n",
       "       'Resolution', 'Address', 'X', 'Y', 'Month', 'Day'],\n",
       "      dtype='object')"
      ]
     },
     "execution_count": 36,
     "metadata": {},
     "output_type": "execute_result"
    }
   ],
   "source": [
    "# Code cell 19\n",
    "SF.columns"
   ]
  },
  {
   "cell_type": "markdown",
   "metadata": {},
   "source": [
    "## Parte 5: Presentar los datos\n",
    "\n",
    "La visualización y presentación de datos proporciona una descripción general inmediata que puede no ser evidente simplemente\n",
    "observando los datos sin procesar. El marco de datos de SF contiene las coordenadas de longitud y latitud que se pueden utilizar para\n",
    "graficar los datos."
   ]
  },
  {
   "cell_type": "markdown",
   "metadata": {},
   "source": [
    "#### Paso 1: Graficar el marco de datos de SF con las variables X e Y."
   ]
  },
  {
   "cell_type": "markdown",
   "metadata": {},
   "source": [
    "a) Utilice la función 'plot()' para graficar el marco de datos de SF. Utilice el parámetro opcional para crear el gráfico en rojo y configurar la forma del marcador en un círculo utilizando *ro*."
   ]
  },
  {
   "cell_type": "code",
   "execution_count": 65,
   "metadata": {},
   "outputs": [
    {
     "data": {
      "image/png": "[encoded data removed]",
      "text/plain": [
       "<Figure size 432x288 with 1 Axes>"
      ]
     },
     "metadata": {
      "needs_background": "light"
     },
     "output_type": "display_data"
    }
   ],
   "source": [
    "# Code cell 20\n",
    "plt.plot(SF['X'],SF['Y'], 'ro')\n",
    "plt.show()"
   ]
  },
  {
   "cell_type": "markdown",
   "metadata": {},
   "source": [
    "b) Identifique la cantidad de distritos de departamentos policiales y luego cree el diccionario *pd_districts* para asociar la secuencia a un valor entero."
   ]
  },
  {
   "cell_type": "code",
   "execution_count": 66,
   "metadata": {},
   "outputs": [
    {
     "data": {
      "text/plain": [
       "{'BAYVIEW': 0,\n",
       " 'CENTRAL': 1,\n",
       " 'INGLESIDE': 2,\n",
       " 'MISSION': 3,\n",
       " 'NORTHERN': 4,\n",
       " 'PARK': 5,\n",
       " 'RICHMOND': 6,\n",
       " 'SOUTHERN': 7,\n",
       " 'TARAVAL': 8,\n",
       " 'TENDERLOIN': 9}"
      ]
     },
     "execution_count": 66,
     "metadata": {},
     "output_type": "execute_result"
    }
   ],
   "source": [
    "# Code cell 21\n",
    "pd_districts = np.unique(SF['PdDistrict'])\n",
    "pd_districts_levels = dict(zip(pd_districts, range(len(pd_districts))))\n",
    "pd_districts_levels"
   ]
  },
  {
   "cell_type": "markdown",
   "metadata": {},
   "source": [
    "c) Utilice 'apply' y 'lambda' para agregar la ID del valor entero del departamento policial a una nueva columna para el marco de datos. "
   ]
  },
  {
   "cell_type": "code",
   "execution_count": 67,
   "metadata": {},
   "outputs": [],
   "source": [
    "# Code cell 22\n",
    "SF['PdDistrictCode'] = SF['PdDistrict'].apply(lambda row: pd_districts_levels[row])"
   ]
  },
  {
   "cell_type": "markdown",
   "metadata": {},
   "source": [
    "d) Utilice el *PdDistrictCode* creado recientemente para cambiar automáticamente el color."
   ]
  },
  {
   "cell_type": "code",
   "execution_count": 68,
   "metadata": {
    "scrolled": true
   },
   "outputs": [
    {
     "data": {
      "image/png": "[encoded data removed]",
      "text/plain": [
       "<Figure size 432x288 with 1 Axes>"
      ]
     },
     "metadata": {
      "needs_background": "light"
     },
     "output_type": "display_data"
    }
   ],
   "source": [
    "# Code cell 23\n",
    "plt.scatter(SF['X'], SF['Y'], c=SF['PdDistrictCode'])\n",
    "plt.show()"
   ]
  },
  {
   "cell_type": "markdown",
   "metadata": {},
   "source": [
    "#### Paso 2: Agregar los paquetes de mapas para mejorar el gráfico."
   ]
  },
  {
   "cell_type": "markdown",
   "metadata": {},
   "source": [
    "En el paso 1, creó un gráfico simple que muestra dónde ocurrieron los incidentes de delitos en el condado de SF. Este gráfico\n",
    "es útil, pero 'folium' ofrece funciones adicionales que permiten superponer este gráfico en un mapa de OpenStreet. "
   ]
  },
  {
   "cell_type": "markdown",
   "metadata": {},
   "source": [
    "a) 'Folium' requiere que se especifique el color del marcador mediante un valor hexadecimal. Por este motivo, utilizamos el paquete *colores* y seleccionamos los colores necesarios."
   ]
  },
  {
   "cell_type": "code",
   "execution_count": 69,
   "metadata": {},
   "outputs": [
    {
     "name": "stdout",
     "output_type": "stream",
     "text": [
      "['#F0F8FF', '#FAEBD7', '#00FFFF', '#7FFFD4', '#F0FFFF', '#F5F5DC', '#FFE4C4', '#000000', '#FFEBCD', '#0000FF']\n"
     ]
    }
   ],
   "source": [
    "# Code cell 24\n",
    "from matplotlib import colors\n",
    "districts = np.unique(SF['PdDistrict'])\n",
    "print(list(colors.cnames.values())[0:len(districts)]) "
   ]
  },
  {
   "cell_type": "markdown",
   "metadata": {},
   "source": [
    "b) Cree un diccionario de colores para cada distrito del departamento policial."
   ]
  },
  {
   "cell_type": "code",
   "execution_count": 70,
   "metadata": {
    "scrolled": true
   },
   "outputs": [
    {
     "data": {
      "text/plain": [
       "{'BAYVIEW': '#F0F8FF',\n",
       " 'CENTRAL': '#8A2BE2',\n",
       " 'INGLESIDE': '#00FFFF',\n",
       " 'MISSION': '#FF8C00',\n",
       " 'NORTHERN': '#FF1493',\n",
       " 'PARK': '#F8F8FF',\n",
       " 'RICHMOND': '#4B0082',\n",
       " 'SOUTHERN': '#FAFAD2',\n",
       " 'TARAVAL': '#B0C4DE',\n",
       " 'TENDERLOIN': '#9370DB'}"
      ]
     },
     "execution_count": 70,
     "metadata": {},
     "output_type": "execute_result"
    }
   ],
   "source": [
    "# Code cell 25\n",
    "color_dict = dict(zip(districts, list(colors.cnames.values())[0:-1:len(districts)])) \n",
    "color_dict"
   ]
  },
  {
   "cell_type": "markdown",
   "metadata": {},
   "source": [
    "c) Cree el mapa con las coordenadas centrales de los datos de SF para centrar el mapa (utilice 'mean'). Para reducir el tiempo de cómputo, se utiliza *plotEvery* para limitar la cantidad de datos graficados. Establezca este valor a 1 para graficar todas las filas (puede llevar mucho tiempo visualizar el mapa)."
   ]
  },
  {
   "cell_type": "code",
   "execution_count": 71,
   "metadata": {
    "scrolled": true
   },
   "outputs": [],
   "source": [
    "# Code cell 26\n",
    "#Create map\n",
    "maposm = folium.Map(location=[SF['Y'].mean(), SF['X'].mean()], zoomstart = 12)\n",
    "plotEvery = 50\n",
    "obs = list(zip( SF['Y'], SF['X'], SF['PdDistrict'])) \n",
    "\n",
    "for el in obs[0:-1:plotEvery]: \n",
    "    \n",
    "    folium.CircleMarker(el[0:2], color=color_dict[el[2]], fillcolor=el[2],radius=10).add_to(maposm)\n",
    "    "
   ]
  },
  {
   "cell_type": "code",
   "execution_count": 72,
   "metadata": {
    "scrolled": true
   },
   "outputs": [
    {
     "data": {
      "text/html": [
       "<div style=\"width:100%;\"><div style=\"position:relative;width:100%;height:0;padding-bottom:60%;\"><iframe src=\"about:blank\" style=\"position:absolute;width:100%;height:100%;left:0;top:0;border:none !important;\" data-html=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 onload=\"this.contentDocument.open();this.contentDocument.write(atob(this.getAttribute('data-html')));this.contentDocument.close();\" allowfullscreen webkitallowfullscreen mozallowfullscreen></iframe></div></div>"
      ],
      "text/plain": [
       "<folium.folium.Map at 0x1e1b6ae9f88>"
      ]
     },
     "execution_count": 72,
     "metadata": {},
     "output_type": "execute_result"
    }
   ],
   "source": [
    "# Code cell 27\n",
    "map_osm"
   ]
  },
  {
   "cell_type": "markdown",
   "metadata": {
    "collapsed": true
   },
   "source": [
    "<font size='0.5'>&copy; 2017 Cisco y/o sus filiales. Todos los derechos reservados. Este documento es información pública de Cisco.<font>"
   ]
  }
 ],
 "metadata": {
  "kernelspec": {
   "display_name": "Python 3",
   "language": "python",
   "name": "python3"
  },
  "language_info": {
   "codemirror_mode": {
    "name": "ipython",
    "version": 3
   },
   "file_extension": ".py",
   "mimetype": "text/x-python",
   "name": "python",
   "nbconvert_exporter": "python",
   "pygments_lexer": "ipython3",
   "version": "3.7.4"
  }
 },
 "nbformat": 4,
 "nbformat_minor": 1
}
